{
 "cells": [
  {
   "cell_type": "code",
   "execution_count": null,
   "id": "e8d5d462",
   "metadata": {},
   "outputs": [],
   "source": [
    "import random\n",
    "import sys\n",
    "#number guessing game\n",
    "\n",
    "#set variables\n",
    "current_guesses = 0\n",
    "max_guess = 4\n",
    "max_range = 10\n",
    "score = 10"
   ]
  },
  {
   "cell_type": "code",
   "execution_count": null,
   "id": "3b4824e5",
   "metadata": {},
   "outputs": [],
   "source": [
    "def lost_game(result):\n",
    "    if result == \"L\":\n",
    "        print(\"You've lost! Play again?\")\n",
    "    else:\n",
    "        print(\"You've won! Play again?\")\n",
    "    play = input()\n",
    "    if play.lower() == \"yes\" or play.lower() == \"y\":\n",
    "        begin_game()\n",
    "    else:\n",
    "        exit      "
   ]
  },
  {
   "cell_type": "code",
   "execution_count": null,
   "id": "e21418c7",
   "metadata": {},
   "outputs": [],
   "source": [
    "def check_guess(guess, current_guesses, number, score):\n",
    "    check_validation(guess, current_guesses, number, score)\n",
    "    if current_guesses >= max_guess:\n",
    "        result == \"L\"\n",
    "        lost_game(result)\n",
    "    if int(guess) == number:\n",
    "        print(\"you win!\")\n",
    "        print(\"Your final score is: \" + str(score))\n",
    "        result = \"Y\"\n",
    "        lost_game(result)\n",
    "    elif int(guess) > number:\n",
    "        print(\"You guessed too high!\")\n",
    "        current_guesses += 1\n",
    "        score -= 2\n",
    "        guess = input(\"Please try again: \")\n",
    "        check_validation(guess, current_guesses, number, score)\n",
    "        check_guess(guess, current_guesses, number, score)\n",
    "    elif int(guess) < number:\n",
    "        print(\"You guessed too low!\")\n",
    "        current_guesses += 1\n",
    "        score -= 2\n",
    "        guess = input(\"Please try again: \")\n",
    "        check_validation(guess, current_guesses, number, score)\n",
    "        check_guess(guess, current_guesses, number, score)\n",
    "    else:\n",
    "        print(\"oops, something went wrong. Try again!\")"
   ]
  },
  {
   "cell_type": "code",
   "execution_count": null,
   "id": "a8fc6b1d",
   "metadata": {},
   "outputs": [],
   "source": [
    "def begin_game():\n",
    "    number = random.randint(1,10)\n",
    "    print(number)\n",
    "    print(\"This is a game where you will guess a number between 1 and 10! You will be scored with the maximum score being 10!\")\n",
    "    print(\"You have three chances to guess correctly. For every wrong guess, I will give you a hint!\")\n",
    "    guess = input(\"What is your guess?  \")\n",
    "    print(guess)\n",
    "    check_guess(guess, current_guesses, number, score)\n",
    "    \n",
    "def check_validation(guess, number, current_guesses, score):\n",
    "    if guess == \"\" or int(guess) > 10 or int(guess) < 1:\n",
    "        print(\"you did not enter a valid number\")\n",
    "        guess = input(\"Enter a number between 1 and 10: \")\n",
    "        print(guess)\n",
    "        check_guess(guess, current_guesses, number, score)"
   ]
  },
  {
   "cell_type": "code",
   "execution_count": null,
   "id": "cf367a26",
   "metadata": {},
   "outputs": [],
   "source": [
    "begin_game()"
   ]
  },
  {
   "cell_type": "code",
   "execution_count": null,
   "id": "0397ac21",
   "metadata": {},
   "outputs": [],
   "source": []
  },
  {
   "cell_type": "code",
   "execution_count": null,
   "id": "43131cb7",
   "metadata": {},
   "outputs": [],
   "source": []
  }
 ],
 "metadata": {
  "kernelspec": {
   "display_name": "Python 3",
   "language": "python",
   "name": "python3"
  },
  "language_info": {
   "codemirror_mode": {
    "name": "ipython",
    "version": 3
   },
   "file_extension": ".py",
   "mimetype": "text/x-python",
   "name": "python",
   "nbconvert_exporter": "python",
   "pygments_lexer": "ipython3",
   "version": "3.8.8"
  }
 },
 "nbformat": 4,
 "nbformat_minor": 5
}
